{
 "cells": [
  {
   "cell_type": "code",
   "execution_count": 12,
   "metadata": {},
   "outputs": [],
   "source": [
    "from ultralytics import YOLO\n",
    "import matplotlib.pyplot as plt\n"
   ]
  },
  {
   "cell_type": "code",
   "execution_count": 20,
   "metadata": {},
   "outputs": [
    {
     "name": "stderr",
     "output_type": "stream",
     "text": [
      "Ultralytics YOLOv8.0.188  Python-3.9.18 torch-2.0.1+cpu CPU (AMD Ryzen 7 4700U with Radeon Graphics)\n",
      "Model summary (fused): 168 layers, 3005843 parameters, 0 gradients\n",
      "\u001b[34m\u001b[1mval: \u001b[0mScanning D:\\Alexander\\Go2Future\\Training models\\Custom_train\\dataset\\Gestion_de_filas_4_camaras_v1i_yolov8\\valid\\labels.cache... 589 images, 0 backgrounds, 0 corrupt: 100%|██████████| 589/589 [00:00<?, ?it/s]\n",
      "                 Class     Images  Instances      Box(P          R      mAP50  mAP50-95): 100%|██████████| 37/37 [01:11<00:00,  1.94s/it]\n",
      "                   all        589       5635          1      0.988      0.994      0.993\n",
      "Speed: 1.8ms preprocess, 109.4ms inference, 0.0ms loss, 0.8ms postprocess per image\n",
      "Results saved to \u001b[1mruns\\detect\\val5\u001b[0m\n"
     ]
    }
   ],
   "source": [
    "# Load a model\n",
    "model = YOLO('trained/yolov8n_4cam_imgsz704.pt')  # load a custom model -yolov8m_4cam_imgsz704\n",
    "data='dataset/Gestion_de_filas_4_camaras_v1i_yolov8/data.yaml'\n",
    "# Validate the model\n",
    "metrics = model.val(data=data, \n",
    "                    imgsz=704, \n",
    "                    conf=0.001, \n",
    "                    iou=0.5, \n",
    "                    plots=True, \n",
    "                    max_det=300, \n",
    "                    save_hybrid=True,\n",
    "                    )  # no arguments needed, dataset and settings remembered\n"
   ]
  },
  {
   "cell_type": "code",
   "execution_count": 21,
   "metadata": {},
   "outputs": [
    {
     "name": "stdout",
     "output_type": "stream",
     "text": [
      "0.9928061435253646\n",
      "0.9944559322033898\n",
      "0.9928192011212335\n"
     ]
    }
   ],
   "source": [
    "print(metrics.box.map)   # map50-95\n",
    "print(metrics.box.map50)  # map50\n",
    "print(metrics.box.map75) # map75\n"
   ]
  },
  {
   "cell_type": "code",
   "execution_count": 16,
   "metadata": {},
   "outputs": [],
   "source": [
    "metrics.confusion_matrix.plot()"
   ]
  }
 ],
 "metadata": {
  "kernelspec": {
   "display_name": "trainyolo",
   "language": "python",
   "name": "python3"
  },
  "language_info": {
   "codemirror_mode": {
    "name": "ipython",
    "version": 3
   },
   "file_extension": ".py",
   "mimetype": "text/x-python",
   "name": "python",
   "nbconvert_exporter": "python",
   "pygments_lexer": "ipython3",
   "version": "3.9.18"
  }
 },
 "nbformat": 4,
 "nbformat_minor": 2
}
